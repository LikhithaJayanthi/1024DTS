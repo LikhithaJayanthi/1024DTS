{
 "cells": [
  {
   "cell_type": "markdown",
   "id": "55ee32b4",
   "metadata": {},
   "source": [
    "# Spark Job 1 on Yelp Database"
   ]
  },
  {
   "cell_type": "code",
   "execution_count": 53,
   "id": "1f98bba7",
   "metadata": {},
   "outputs": [],
   "source": [
    "from pyspark.sql import SparkSession\n",
    "from pyspark.sql.functions import col, avg, desc, when, regexp_extract, size, corr\n",
    "from pyspark.sql.types import StructType, StructField, StringType\n"
   ]
  },
  {
   "cell_type": "code",
   "execution_count": null,
   "id": "69c47a48",
   "metadata": {},
   "outputs": [],
   "source": [
    "# Create a Spark session\n",
    "spark = SparkSession.builder \\\n",
    "    .appName(\"yelp_sparkjob\") \\\n",
    "    .getOrCreate()\n",
    "\n",
    "# Read yelp_checkin.csv\n",
    "yelp_checkin_df = spark.read.csv(\"yelp_checkin.csv\", header=True, inferSchema=True)\n",
    "\n",
    "# Read yelp_business_merged.csv\n",
    "yelp_business_merged_df = spark.read.csv(\"yelp_business_merged.csv\", header=True, inferSchema=True)"
   ]
  },
  {
   "cell_type": "code",
   "execution_count": 7,
   "id": "11f65f98",
   "metadata": {},
   "outputs": [],
   "source": [
    "# Drop specified columns from yelp_checkin_df\n",
    "columns_to_drop_checkin = ['latitude', 'longitude', 'address', 'postal_code', 'date']\n",
    "yelp_checkin_df = yelp_checkin_df.drop(*columns_to_drop_checkin)"
   ]
  },
  {
   "cell_type": "code",
   "execution_count": 12,
   "id": "92bd7ebb",
   "metadata": {},
   "outputs": [],
   "source": [
    "# Filter businesses that are open at night\n",
    "\n",
    "# Join the two DataFrames on the 'business_id' column\n",
    "joined_df = yelp_business_merged_df.join(yelp_checkin_df, 'business_id')\n",
    "\n"
   ]
  },
  {
   "cell_type": "markdown",
   "id": "dbef9dd5",
   "metadata": {},
   "source": [
    "Finding out the average number of categories of yelp businesses"
   ]
  },
  {
   "cell_type": "code",
   "execution_count": 18,
   "id": "ec5d937e",
   "metadata": {},
   "outputs": [
    {
     "name": "stdout",
     "output_type": "stream",
     "text": [
      "Average number of categories in the businesses: 4.4500805367340694\n"
     ]
    }
   ],
   "source": [
    "# Calculate the average number of categories\n",
    "average_categories = yelp_business_merged_df.select(avg(\"categories_count\")).first()[0]\n",
    "\n",
    "# Display the result\n",
    "print(\"Average number of categories in the businesses:\", average_categories)\n"
   ]
  },
  {
   "cell_type": "code",
   "execution_count": 28,
   "id": "3b6fe0b7",
   "metadata": {},
   "outputs": [
    {
     "name": "stdout",
     "output_type": "stream",
     "text": [
      "Query 1 : Is having more varied business gets them more reviews on yelp necessarily ?\n"
     ]
    }
   ],
   "source": [
    "print(\"Query 1 : Is having more varied business gets them more reviews on yelp necessarily ?\")"
   ]
  },
  {
   "cell_type": "code",
   "execution_count": 54,
   "id": "3da11e3c",
   "metadata": {},
   "outputs": [
    {
     "name": "stdout",
     "output_type": "stream",
     "text": [
      "Top 20 businesses with the most categories and their review counts:\n",
      "+--------------------+----------------+------------+-------------------+\n",
      "|                name|categories_count|review_count|review_count_gt_avg|\n",
      "+--------------------+----------------+------------+-------------------+\n",
      "|Level Up Curbside...|               9|         7.0|              false|\n",
      "|       PHDermatology|               9|        19.0|              false|\n",
      "|  August Pearl Salon|               9|        20.0|              false|\n",
      "|Stages Kitchen & Bar|               9|        30.0|              false|\n",
      "|   Noodles & Company|               9|        36.0|              false|\n",
      "|  Forest Park Dental|               9|        35.0|              false|\n",
      "|Silky Skin Laser ...|               9|         6.0|              false|\n",
      "|Midori Organic Salon|               9|        17.0|              false|\n",
      "|Martial Arts Kick...|               9|        16.0|              false|\n",
      "|South Pasadena Ac...|               9|         9.0|              false|\n",
      "|    Olde Black Horse|               9|         9.0|              false|\n",
      "| Corner Pub Downtown|               9|        70.0|               true|\n",
      "|Super Home Surplu...|               9|         7.0|              false|\n",
      "|                Cook|               9|        50.0|               true|\n",
      "|Top Shelf Sports ...|               9|        95.0|               true|\n",
      "|         Golf Galaxy|               9|        11.0|              false|\n",
      "|      Steak ’n Shake|               9|        41.0|              false|\n",
      "|   The Comic Station|               9|         6.0|              false|\n",
      "| Reno Downtown Joint|               9|        10.0|              false|\n",
      "|             SoFresh|               9|        89.0|               true|\n",
      "+--------------------+----------------+------------+-------------------+\n",
      "\n"
     ]
    }
   ],
   "source": [
    "# Filter rows with non-numeric values in categories_count column\n",
    "yelp_business_merged_df_clean = yelp_business_merged_df.filter(col(\"categories_count\").rlike(\"^[0-9]+$\"))\n",
    "\n",
    "# Calculate the average review count\n",
    "average_review_count = yelp_business_merged_df_clean.select(avg(\"review_count\")).first()[0]\n",
    "\n",
    "# Find the top 20 businesses with the most categories\n",
    "top_categories_businesses = yelp_business_merged_df_clean.orderBy(desc(\"categories_count\")).limit(20)\n",
    "\n",
    "# Determine if their review counts are greater than the average review count\n",
    "top_categories_businesses_with_comparison = top_categories_businesses.withColumn(\n",
    "    \"review_count_gt_avg\", when(col(\"review_count\") > average_review_count, True).otherwise(False)\n",
    ")\n",
    "\n",
    "# Display the result with comparison\n",
    "print(\"Top 20 businesses with the most categories and their review counts:\")\n",
    "top_categories_businesses_with_comparison.select(\"name\", \"categories_count\", \"review_count\", \"review_count_gt_avg\").show()"
   ]
  },
  {
   "cell_type": "code",
   "execution_count": 25,
   "id": "6896911c",
   "metadata": {},
   "outputs": [
    {
     "name": "stdout",
     "output_type": "stream",
     "text": [
      "So it seems that having a lot of categories does not necessarily gain more reviews\n"
     ]
    }
   ],
   "source": [
    "print(\"So it seems that having a lot of categories does not necessarily gain more reviews\")"
   ]
  },
  {
   "cell_type": "code",
   "execution_count": 29,
   "id": "ced9de1e",
   "metadata": {},
   "outputs": [
    {
     "name": "stdout",
     "output_type": "stream",
     "text": [
      "Query 2 : Average review ratings for businesses with different review counts and businesses with more check-ins at night.\n"
     ]
    }
   ],
   "source": [
    "print(\"Query 2 : Average review ratings for businesses with different review counts and businesses with more check-ins at night.\")"
   ]
  },
  {
   "cell_type": "code",
   "execution_count": 27,
   "id": "a3dc48f4",
   "metadata": {},
   "outputs": [
    {
     "name": "stdout",
     "output_type": "stream",
     "text": [
      "Average review rating for businesses with high review counts: 3.8\n",
      "Average review rating for businesses with low review counts: 3.6\n",
      "Average review rating for businesses with more night check-ins: 3.6\n"
     ]
    }
   ],
   "source": [
    "# Calculate the average review rating for businesses with high review counts\n",
    "high_review_count_businesses = joined_df.filter(col(\"review_count\") > 100)\n",
    "average_rating_high_review_count = high_review_count_businesses.select(avg(\"stars\")).first()[0]\n",
    "\n",
    "# Calculate the average review rating for businesses with low review counts\n",
    "low_review_count_businesses = joined_df.filter(col(\"review_count\") <= 100)\n",
    "average_rating_low_review_count = low_review_count_businesses.select(avg(\"stars\")).first()[0]\n",
    "\n",
    "# Find businesses with more check-ins at night\n",
    "night_open_businesses = joined_df.filter(col(\"is_open\") == 1).filter(col(\"Night Checkin\") > 0)\n",
    "\n",
    "# Calculate the average review rating for businesses with more night check-ins\n",
    "average_rating_night_open_businesses = night_open_businesses.select(avg(\"stars\")).first()[0]\n",
    "\n",
    "# Display the insights with one decimal place\n",
    "print(\"Average review rating for businesses with high review counts:\", format(average_rating_high_review_count, '.1f'))\n",
    "print(\"Average review rating for businesses with low review counts:\", format(average_rating_low_review_count, '.1f'))\n",
    "print(\"Average review rating for businesses with more night check-ins:\", format(average_rating_night_open_businesses, '.1f'))"
   ]
  },
  {
   "cell_type": "code",
   "execution_count": 40,
   "id": "8e97c8f0",
   "metadata": {},
   "outputs": [],
   "source": [
    "yelp_user_df = spark.read.csv(\"yelp_user.csv\", header=True, inferSchema=True)\n"
   ]
  },
  {
   "cell_type": "code",
   "execution_count": 47,
   "id": "4b85bc78",
   "metadata": {},
   "outputs": [
    {
     "name": "stdout",
     "output_type": "stream",
     "text": [
      "Query 3: Is there any signifant correlation betwen Elite Count and number of friends ?\n"
     ]
    }
   ],
   "source": [
    "print(\"Query 3: Is there any signifant correlation betwen Elite Count and number of friends ?\")"
   ]
  },
  {
   "cell_type": "code",
   "execution_count": 46,
   "id": "af90c582",
   "metadata": {},
   "outputs": [
    {
     "name": "stdout",
     "output_type": "stream",
     "text": [
      "Correlation between elite_count and friends_count: 0.33\n"
     ]
    }
   ],
   "source": [
    "# Calculate the correlation between elite_count and friends_count\n",
    "correlation = yelp_user_df.select(corr(\"elite_count\", \"friends_count\")).first()[0]\n",
    "\n",
    "# Display the correlation with 2 digits after the decimal point\n",
    "print(\"Correlation between elite_count and friends_count:\", format(correlation, '.2f'))"
   ]
  },
  {
   "cell_type": "code",
   "execution_count": 52,
   "id": "737995b0",
   "metadata": {},
   "outputs": [
    {
     "name": "stdout",
     "output_type": "stream",
     "text": [
      "No significant effect on number of friends based on Elite count\n"
     ]
    }
   ],
   "source": [
    "if correlation < 0.5:\n",
    "    print(\"No significant effect on number of friends based on Elite count\")\n",
    "else :\n",
    "    print (\"Elite count has an effect on number of friends\")"
   ]
  }
 ],
 "metadata": {
  "kernelspec": {
   "display_name": "Python 3 (ipykernel)",
   "language": "python",
   "name": "python3"
  },
  "language_info": {
   "codemirror_mode": {
    "name": "ipython",
    "version": 3
   },
   "file_extension": ".py",
   "mimetype": "text/x-python",
   "name": "python",
   "nbconvert_exporter": "python",
   "pygments_lexer": "ipython3",
   "version": "3.10.9"
  }
 },
 "nbformat": 4,
 "nbformat_minor": 5
}
